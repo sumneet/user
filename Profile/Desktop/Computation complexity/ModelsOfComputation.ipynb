{
 "metadata": {
  "name": "",
  "signature": "sha256:0a483e7feb32dc580a3f882b4cfcf5db428efdbf89406374df445a12445d30fb"
 },
 "nbformat": 3,
 "nbformat_minor": 0,
 "worksheets": [
  {
   "cells": [
    {
     "cell_type": "heading",
     "level": 1,
     "metadata": {},
     "source": [
      "Models of Computation"
     ]
    },
    {
     "cell_type": "heading",
     "level": 2,
     "metadata": {},
     "source": [
      "Introduction"
     ]
    },
    {
     "cell_type": "markdown",
     "metadata": {},
     "source": [
      "So far we have talked about Big-O notation and complexity classes (P, NP, etc) quite vaguely. We have said that an algorithm in P is one that can be computed in \"polynomial\" time (i.e. reasonably fast) by an abstract machine, but we have not said very much about what an abstract machine is or how it might work.\n",
      "\n",
      "Why talk about algorithms in this way? Because we want to compare different algorithms, and *not* benchmark different implementations of the algorithms. We want to know whether one algorithm is inherently faster or more space efficient regardless of whether the algorithm is implemented on a machine which has a smaller or larger cache, smaller or larger memory, a faster or slower CPU and so on. We want to abstract all those details away, and leave only the fundamental steps of the algorithm itself - hence we need an *abstract machine*.\n",
      "\n",
      "The early history of Computer Science contains a lot of work on abstract machines. People were interested in ways to automate mathematics and they wanted to go beyond creating simple calculating machines and understand whether it would be possible to construct a machine that could make the sort of creative and intuitive leaps that a human can. For example, can a machine be built to play chess? Or prove any mathematical theorem? We now know (thanks to the work of people like Alan Turing and Kurt G\u00f6del) that computers can compute answers to most problems, but there are some classes of problems that cannot be solved automatically. More on that later...\n",
      "\n",
      "So, what models of computation do we know about:\n",
      "\n",
      "  - The Turing machine - invented by Alan Turing\n",
      "  - The General Register Machine - similar to the Turing Machine\n",
      "  - The Lambda Calculus - discovered by Alonzo Church. The Lambda Calculus  is like a programming language, and several well-known programming languages have been based on the Lambda Calculus (e.g. Lisp, Scheme, ML, OCaml, Scala, Haskell, Clojure, ...)\n",
      "  - Cellular Automata - discovered, at least in part, by John Horton Conway. See the videos at the end of this notebook.\n",
      "  \n",
      "  \n",
      "These models have all found a use in Computer Science. The Turing Machine is important in complexity, the Lambda Calculus in designing programming languages, and Cellular Automata have been used to design algorithms for problems which cannot have an exact solution in P.\n",
      "  "
     ]
    },
    {
     "cell_type": "heading",
     "level": 2,
     "metadata": {},
     "source": [
      "Universality"
     ]
    },
    {
     "cell_type": "markdown",
     "metadata": {},
     "source": [
      "These models of computation are said to be *universal*. That means that all these different models of computation are in some way equivalent. So, if we can write a program in Lambda Calculus to solve a problem, we can also write a program for a Turing Machine to solve the same prooblem, and vice versa. Computer Scientists usually think of this in terms of *simulations*. We know that the Lambda Calculus is equivalent to Turing Machines because we can write a program in Lambda Calculus that simulates any Turing Machine (TM), and we can write a TM program to simulate a Lambda Calculus interpreter. This should make some sense to you, even though we haven't said much about what a TM or the Lambda Calculus is. You do know that the Lambda Calculus is like a programming language, and a TM is like a physical computer. You probably also know that anything you can design in a hardware circuit you can also write a program to compute. Equally, anything you can program in Java or Python you can design a circuit for. The equivalence between different models of computation is just like the equivalence between circuits and programs."
     ]
    },
    {
     "cell_type": "heading",
     "level": 2,
     "metadata": {},
     "source": [
      "Turing Machines"
     ]
    },
    {
     "cell_type": "markdown",
     "metadata": {},
     "source": [
      "So, what is a Turing Machine? A TM consists of:\n",
      "\n",
      "  - A tape divided into cells (like an array). Each cell contains a symbol, which might be blank (sometimes written as **0**). The tape may be infinitely long, so the TM can never run out of tape. In some explanations the tape has a start. Cells which have not been written to should be filled with the blank symbol.\n",
      "  - A head that can read and write symbols on the tape and move the tape left and right one cell at a time. You can think of the head as being like the moving head of a hard drive or the needle on a record player.\n",
      "  - A register that stores the current state of the TM. The TM has a special start state with which the state register is initialized. \n",
      "  - A finite table (sometimes called an action table or transition table) of instructions that, given the state $q_i$ the machine is currently in and the symbol $a_j$ it is reading on the tape (symbol currently under the head) tells the machine to do the following in sequence:\n",
      "    - Either erase or write a symbol (replacing $a_j$ with $a_{j1}$), and then\n",
      "    - Move the head (which is described by $d_k$ and can have values: **L** for one step left or **R** for one step right or **N** for staying in the same place), and then\n",
      "    - Assume the same or a new state as prescribed (go to state $q_{i1}$).\n",
      "    \n",
      "    \n",
      "Let's look at a Turing Machine simulator here: http://morphett.info/turing/turing.html and run through the demo programs to see how this works in \"practice\"."
     ]
    },
    {
     "cell_type": "code",
     "collapsed": false,
     "input": [
      "from IPython.display import YouTubeVideo\n",
      "YouTubeVideo(\"dNRDvLACg5Q\")"
     ],
     "language": "python",
     "metadata": {},
     "outputs": [
      {
       "html": [
        "\n",
        "        <iframe\n",
        "            width=\"400\"\n",
        "            height=300\"\n",
        "            src=\"https://www.youtube.com/embed/dNRDvLACg5Q\"\n",
        "            frameborder=\"0\"\n",
        "            allowfullscreen\n",
        "        ></iframe>\n",
        "        "
       ],
       "metadata": {},
       "output_type": "pyout",
       "prompt_number": 1,
       "text": [
        "<IPython.lib.display.YouTubeVideo at 0x3f41c88>"
       ]
      }
     ],
     "prompt_number": 1
    },
    {
     "cell_type": "heading",
     "level": 2,
     "metadata": {},
     "source": [
      "The Halting Problem"
     ]
    },
    {
     "cell_type": "markdown",
     "metadata": {},
     "source": [
      "Can a Turing Machine (or, by extention the Lambda Calculus, or ...) solve *any* problem? This is a question that preoccupied Mathematicians at the early part of the 20th Century, in face it was one of the *Hilbert Problems* proposed by Mathematician David Hilbert, that were expected to define the important discoveries in Mathematics in the 20th Century. One way to think about this problem, is to phrase it as: *is there a problem which a TM cannot solve*?\n",
      "\n",
      "It turns out that, yes, there are some problems that a TM cannot solve, and the \"canonical\" problem of this sort sounds really simple -- can a TM find out whether a program for a TM halts or not? This is called the **Halting Problem** and it is a nice problem, because it is easy to understand and if there were a solution it would be really useful! Clearly for simple programs, like this Python code:\n",
      "\n",
      "    def never_stop():\n",
      "        while True: \n",
      "            print \"Still going\"\n",
      "            \n",
      "it is \"obvious\" that the program does not ever stop. For an arbitrarily complex program, however, it isn't obvious, and it would be great if Eclipse could tell you whether you have accidentally created an infinite loop.\n",
      "\n",
      "So, why can't we figure out whether a given program ever stops? We can sketch a proof here. Imagine that we *could* solve the Halting problem, we would have a program **H** which takes an input **prog_in** which is some program for a Turing Machine. Now, imagine that **H** returns **1** if **prog_in** halts, and **0** if it loops forever. Now we can write a program like this:\n",
      "\n",
      "    def paradox(prog_in):\n",
      "        if (Halt(prog_in)):\n",
      "            while True:\n",
      "                pass\n",
      "    else:\n",
      "        return # Halt\n",
      "        \n",
      "Now, what happens if we call **paradox(paradox)**? ... \n",
      "    "
     ]
    },
    {
     "cell_type": "code",
     "collapsed": false,
     "input": [
      "YouTubeVideo(\"nsZsd5qtbo4\")"
     ],
     "language": "python",
     "metadata": {},
     "outputs": [
      {
       "html": [
        "\n",
        "        <iframe\n",
        "            width=\"400\"\n",
        "            height=300\"\n",
        "            src=\"https://www.youtube.com/embed/nsZsd5qtbo4\"\n",
        "            frameborder=\"0\"\n",
        "            allowfullscreen\n",
        "        ></iframe>\n",
        "        "
       ],
       "metadata": {},
       "output_type": "pyout",
       "prompt_number": 5,
       "text": [
        "<IPython.lib.display.YouTubeVideo at 0x3f41fd0>"
       ]
      }
     ],
     "prompt_number": 5
    },
    {
     "cell_type": "code",
     "collapsed": false,
     "input": [
      "YouTubeVideo(\"FK3kifY-geM\")"
     ],
     "language": "python",
     "metadata": {},
     "outputs": [
      {
       "html": [
        "\n",
        "        <iframe\n",
        "            width=\"400\"\n",
        "            height=300\"\n",
        "            src=\"https://www.youtube.com/embed/FK3kifY-geM\"\n",
        "            frameborder=\"0\"\n",
        "            allowfullscreen\n",
        "        ></iframe>\n",
        "        "
       ],
       "metadata": {},
       "output_type": "pyout",
       "prompt_number": 4,
       "text": [
        "<IPython.lib.display.YouTubeVideo at 0x3f41eb8>"
       ]
      }
     ],
     "prompt_number": 4
    },
    {
     "cell_type": "heading",
     "level": 2,
     "metadata": {},
     "source": [
      "Other models of computation - Conway's Game of Life"
     ]
    },
    {
     "cell_type": "code",
     "collapsed": false,
     "input": [
      "YouTubeVideo(\"0XI6s-TGzSs\")"
     ],
     "language": "python",
     "metadata": {},
     "outputs": [
      {
       "html": [
        "\n",
        "        <iframe\n",
        "            width=\"400\"\n",
        "            height=300\"\n",
        "            src=\"https://www.youtube.com/embed/0XI6s-TGzSs\"\n",
        "            frameborder=\"0\"\n",
        "            allowfullscreen\n",
        "        ></iframe>\n",
        "        "
       ],
       "metadata": {},
       "output_type": "pyout",
       "prompt_number": 7,
       "text": [
        "<IPython.lib.display.YouTubeVideo at 0x3f83080>"
       ]
      }
     ],
     "prompt_number": 7
    },
    {
     "cell_type": "code",
     "collapsed": false,
     "input": [
      "YouTubeVideo(\"R9Plq-D1gEk\")"
     ],
     "language": "python",
     "metadata": {},
     "outputs": [
      {
       "html": [
        "\n",
        "        <iframe\n",
        "            width=\"400\"\n",
        "            height=300\"\n",
        "            src=\"https://www.youtube.com/embed/R9Plq-D1gEk\"\n",
        "            frameborder=\"0\"\n",
        "            allowfullscreen\n",
        "        ></iframe>\n",
        "        "
       ],
       "metadata": {},
       "output_type": "pyout",
       "prompt_number": 6,
       "text": [
        "<IPython.lib.display.YouTubeVideo at 0x3f83048>"
       ]
      }
     ],
     "prompt_number": 6
    },
    {
     "cell_type": "heading",
     "level": 2,
     "metadata": {},
     "source": [
      "Portfolio exercises"
     ]
    },
    {
     "cell_type": "markdown",
     "metadata": {},
     "source": [
      "  \n",
      "  1. Read Chapter 6 of Think Complexity: http://www.greenteapress.com/compmod/html/thinkcomplexity007.html\n",
      "  2. Go to the Turing Machine simulator here: http://morphett.info/turing/turing.html and run the program that is there.\n",
      "  3. Based on the program you have just run (which concatenates two binary numbers), write a similar program for the Turing Machine simulator which reverses a binary number.\n",
      "  4. Copy and paste your solution to 2. into a text file and commit it to your 6CS008 git repository with a suitable commit message. Make sure that you comment your code so that it is clear you understood it. "
     ]
    },
    {
     "cell_type": "code",
     "collapsed": false,
     "input": [],
     "language": "python",
     "metadata": {},
     "outputs": []
    }
   ],
   "metadata": {}
  }
 ]
}