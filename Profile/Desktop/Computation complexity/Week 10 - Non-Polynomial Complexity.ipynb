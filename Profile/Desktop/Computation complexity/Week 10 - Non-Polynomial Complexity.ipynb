{
 "metadata": {
  "name": "Week 10 - Non-Polynomial Complexity",
  "signature": "sha256:1119c049681f43ced66d40844284aa0c55d7cc3216376086cc922e1764d44651"
 },
 "nbformat": 3,
 "nbformat_minor": 0,
 "worksheets": [
  {
   "cells": [
    {
     "cell_type": "heading",
     "level": 1,
     "metadata": {},
     "source": "Introduction"
    },
    {
     "cell_type": "markdown",
     "metadata": {},
     "source": "Last week we looked at problems in P - i.e. the problems that can be solved in Polynomial time. Usually these problems are \"easy\" to solve, in the sense that if you write a solution you can expect it to terminate in a reasonable amount of time. Reasonable will depend on the problem - if you are breaking the record for [calculating the digits of $\\pi$ to many decimal places](http://en.wikipedia.org/wiki/Chronology_of_computation_of_%CF%80) your code may still take months to complete.\n\nProblems which are not in P are more difficult and they don't slow down linearly with the size of the input data. \n\n**NP** is a class of problems which cannot be solved in Polynomial time, but if a correct solution to the problem can be found, that solution can be *verified* in Polynomial time. Some example problems in NP:\n\n  * In **Travelling Salesman Problem** a salesman has to visit every city in the UK. He wants to be efficient and travel the shortest possible distance, but he *must* visit every city exactly once.\n  * The **graph isomorphism problem** tries to find out whether two graph structures are identical .\n  * The **circuit satisfiability problem** takes a boolean expression and tries to find values for the variables in that expression so that the whole thing evaluates to *true*. \n  * The **integer factorisation problem** finds the prime factors of a given integer.\n    \nWhen you add a feature to your own code it is worth thinking about whether your feature is equivalent to one of the known problems in NP and whether there might be any consequences of that. This might lead you to think again about how you go about solving your problem in NP! Next week we will be looking at some interesting ways of solving these difficult problems. We will look at this in much more detail next week.\n\nFor now, here are some problems from real applications that are equivalent to problems in NP. Which problem above are they equivalent to:\n\n  1. Finding the fastest route from home to University on Google Maps\n  2. Finding the best way to design a simple ALU for a new computer or microcontroller\n  3. Scheduling all the lectures and workshops in a Univeristy department so that the lectures and rooms are used in the most efficient way possible\n  4. Solving a game of Suduko\n  5. Cracking public key cryptography"
    },
    {
     "cell_type": "markdown",
     "metadata": {},
     "source": "# P vs. NP and the Complexity Zoo"
    },
    {
     "cell_type": "code",
     "collapsed": false,
     "input": "from IPython.display import YouTubeVideo\nYouTubeVideo(\"YX40hbAHx3s\")",
     "language": "python",
     "metadata": {},
     "outputs": [
      {
       "html": "\n        <iframe\n            width=\"400\"\n            height=300\"\n            src=\"http://www.youtube.com/embed/YX40hbAHx3s\"\n            frameborder=\"0\"\n            allowfullscreen\n        ></iframe>\n        ",
       "metadata": {},
       "output_type": "pyout",
       "prompt_number": 3,
       "text": "<IPython.lib.display.YouTubeVideo at 0x540ef60>"
      }
     ],
     "prompt_number": 3
    },
    {
     "cell_type": "markdown",
     "metadata": {},
     "source": "# Portfolio tasks\n\n  1. Write a simple, brute-force solution to the Travelling Salesman Problem. Represent the list of cities that the salesman has to visit as a dictionary: `cities = {\"London\":(1, 2), \"Wolverhampton\": (100, -22), ...}`. Put a reasonably large number of cities in your dictionary. Then the distance between two cities can be calculated with the function below. Calculate the total distance your salesman should travel. A pure brute-force method would just visit each city as it appears in the dictionary (i.e. in random order). You could also try a *greedy* solution to the problem - i.e. use the distance function to find the *next nearest* city to the one you are in.\n  2. Download the paper Kendell et. al. 2008 from the Week 10 folder on WOLF.\n  3. You will have had an email which tells you which puzzle from the paper you should write about. For that puzzle, write a short description (one page or less) of the puzzle. Make sure you state what complexity class the puzzle is in (e.g. NP-COMPLETE) and clearly describe the complexity class. Commit this writing to your Git repository.\n"
    },
    {
     "cell_type": "code",
     "collapsed": false,
     "input": " Cities = {\"London\":(1, 2), \"Wolverhampton\": (100, -22), \"Birmingham\":(17,-23),\"Cardiff\":(30,-20),\"Northampton\":(20,-10),\"Leicester\":(15,-5),\n           \"Coventry\":(120,-50),\"Liverpool\":(112,-61),\"Manchester\":(17,-5)}\n    ",
     "language": "python",
     "metadata": {},
     "outputs": [],
     "prompt_number": 11
    },
    {
     "cell_type": "code",
     "collapsed": false,
     "input": "import math\ndef distance(city1, city2):\n    x1, y1 = cities[city1]\n    x2, y2 = cities[city2]\n    x3, y3 = cities[city3]\n    x4, y4 = cities[city4] \n    return math.sqrt(math.pow(x2 - x1, 2) + math.pow(y2 - y1, 2) + math.pow(x3 - x2,3) + math.pow(y3-y2,y3) + math.pow(x4-x3,4) + math.pow(y4-y3,4))\ncurrentCities = \"Wolverhampton\"\nrecentlyVisted =[]\n\n\nlowVal=100\n",
     "language": "python",
     "metadata": {},
     "outputs": [],
     "prompt_number": 12
    },
    {
     "cell_type": "markdown",
     "metadata": {},
     "source": "# Further reading and viewing"
    },
    {
     "cell_type": "markdown",
     "metadata": {},
     "source": "Brian Hayes (2008) Accidental Algorithms, Scientific American http://www.americanscientist.org/issues/pub/accidental-algorithms/99999"
    },
    {
     "cell_type": "code",
     "collapsed": false,
     "input": "YouTubeVideo(\"pTeZP-XfuKI\")",
     "language": "python",
     "metadata": {},
     "outputs": [
      {
       "html": "\n        <iframe\n            width=\"400\"\n            height=300\"\n            src=\"http://www.youtube.com/embed/pTeZP-XfuKI\"\n            frameborder=\"0\"\n            allowfullscreen\n        ></iframe>\n        ",
       "metadata": {},
       "output_type": "pyout",
       "prompt_number": 6,
       "text": "<IPython.lib.display.YouTubeVideo at 0x54222b0>"
      }
     ],
     "prompt_number": 6
    },
    {
     "cell_type": "code",
     "collapsed": false,
     "input": "",
     "language": "python",
     "metadata": {},
     "outputs": [],
     "prompt_number": 6
    },
    {
     "cell_type": "code",
     "collapsed": false,
     "input": "",
     "language": "python",
     "metadata": {},
     "outputs": []
    }
   ],
   "metadata": {}
  }
 ]
}