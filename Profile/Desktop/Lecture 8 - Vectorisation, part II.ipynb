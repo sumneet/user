{
 "metadata": {
  "name": "",
  "signature": "sha256:bcbd5066d48ae2d14430c2711cdde92168f68bed0b45eedae6582a66e7f94f33"
 },
 "nbformat": 3,
 "nbformat_minor": 0,
 "worksheets": [
  {
   "cells": [
    {
     "cell_type": "heading",
     "level": 1,
     "metadata": {},
     "source": [
      "1. Introduction"
     ]
    },
    {
     "cell_type": "markdown",
     "metadata": {},
     "source": [
      "In this, last for block 2, session we'll further and conclude our discussion on vectorisation. Last week, we saw how applying vectorised operations on whole arrays or matrices of data resulted in significant increases in speed. In a lot of realistic scenarios, nonetheless, you need to apply algebraic operations on subsets of your data, or appropriate subsets. In this session we discuss this issue."
     ]
    },
    {
     "cell_type": "heading",
     "level": 1,
     "metadata": {},
     "source": [
      "2. Basic Indexing and slicing"
     ]
    },
    {
     "cell_type": "markdown",
     "metadata": {},
     "source": [
      "We've already seen multiple examples of slicing and indexing in python. Let's remember them below:"
     ]
    },
    {
     "cell_type": "code",
     "collapsed": false,
     "input": [
      "import numpy as np\n",
      "import random\n",
      "#\n",
      "#  Slicing 1D arrays\n",
      "#\n",
      "arr1d = np.arange(10,0,-1)\n",
      "print 'arr1d is: ', arr1d\n",
      "\n",
      "# Basic slicing. Returns the elements from position 2 to 6-1=5!!\n",
      "# Generally, slicing [i:j] returns the elements from position i to j-1\n",
      "print '\\nA slice of the array:',arr1d[2:6] \n",
      "\n",
      "slice1 =  arr1d[6:-1]    # remember what -1 stands for? The last element of the list\n",
      "slice2 =  arr1d[6:]      # Question: are slice1 and slice2 the same???\n",
      "\n",
      "# More advanced slicing. Choosing excactly which elements you want. \n",
      "# Note: the internal array ([2,5,6]) defines which elements we want to extract.\n",
      "# In this case, the elements in positions 2, 5 and 6.\n",
      "# This is different from arr1d[2,5,6], which would return an error\n",
      "print '\\nAnother slice of the array: ', arr1d[[2,5,6]]  "
     ],
     "language": "python",
     "metadata": {},
     "outputs": [
      {
       "output_type": "stream",
       "stream": "stdout",
       "text": [
        "arr1d is:  [10  9  8  7  6  5  4  3  2  1]\n",
        "\n",
        "A slice of the array: [8 7 6 5]\n",
        "\n",
        "Another slice of the array:  [8 5 4]\n"
       ]
      }
     ],
     "prompt_number": 1
    },
    {
     "cell_type": "code",
     "collapsed": false,
     "input": [
      "#\n",
      "# Slicing 2D arrays (i.e., matrices)\n",
      "#\n",
      "arr2d = np.array([[1,2,3,4,5],[6,7,8,9,0],[11,12,13,14,15]])\n",
      "print 'arr2d is:\\n', arr2d\n",
      "\n",
      "#reminder: indexing matrices\n",
      "#Remember in Python, data structures are 0-based\n",
      "#Equivalent to arr2d[2][3]. The below is slightly prefered, you'll see why below.\n",
      "print '\\narr2d element at row 2, column 3 is:', arr2d[2,3]  \n",
      "\n",
      "# slicing matrices\n",
      "print '\\nMatrices are primarily indexed by rows: ', arr2d[2,:]  #if I pass only 1 index, it is perceived as the row!\n",
      "                                                                #equivalent to arr2d[2]\n",
      "\n",
      "print '\\nSlicing rows:\\n', arr2d[:2,:]   #equivalent to arr2d[:2]. This means, all the row until row 2 and all the columns\n",
      "\n",
      "print '\\nSlicing columns:\\n',arr2d[:,2]\n",
      "\n",
      "#if you want the sliced columns to look like a column, then:\n",
      "arr2d_columns = arr2d[:,2].reshape(arr2d.shape[0],1)\n",
      "#this may seem convoluted, but we are only reshaping our result to 1 column and as many rows as arr2d has.\n",
      "#You can do this in a simpler way by using reshape(-1,1)\n",
      "\n",
      "print '\\nSlicing columns (again):\\n',arr2d_columns"
     ],
     "language": "python",
     "metadata": {},
     "outputs": [
      {
       "output_type": "stream",
       "stream": "stdout",
       "text": [
        "arr2d is:\n",
        "[[ 1  2  3  4  5]\n",
        " [ 6  7  8  9  0]\n",
        " [11 12 13 14 15]]\n",
        "\n",
        "arr2d element at row 2, column 3 is: 14\n",
        "\n",
        "Matrices are primarily indexed by rows:  [11 12 13 14 15]\n",
        "\n",
        "Slicing rows:\n",
        "[[1 2 3 4 5]\n",
        " [6 7 8 9 0]]\n",
        "\n",
        "Slicing columns:\n",
        "[ 3  8 13]\n",
        "\n",
        "Slicing columns (again):\n",
        "[[ 3]\n",
        " [ 8]\n",
        " [13]]\n"
       ]
      }
     ],
     "prompt_number": 2
    },
    {
     "cell_type": "heading",
     "level": 2,
     "metadata": {},
     "source": [
      "Exercises - Practice"
     ]
    },
    {
     "cell_type": "code",
     "collapsed": false,
     "input": [
      "#Given the matrix below:\n",
      "arr2d = np.array([[1,2,3,4,5],[6,7,8,9,0],[11,12,13,14,15]])\n",
      "print arr2d\n",
      "\n",
      "#1) Slice it to print only the 1st column. Print in column format.\n",
      "print '\\nExercise 1'\n",
      "\n",
      "\n",
      "#2) Slice it to print only the last column. Don't use the index '4'. Print in column format.\n",
      "print '\\nExercise 2'\n",
      "\n",
      "\n",
      "#3) From the above slice, locate the indices of the number in the middle and print it using them. \n",
      "#   You are free to pass the above slice to a variable.\n",
      "print '\\nExercise 3'\n",
      "\n",
      "\n",
      "#4) Slice and print the 1st to 3rd column\n",
      "print '\\nExercise 4'\n",
      "\n",
      "\n",
      "#5) Slice and print the 1st and 2nd row\n",
      "print '\\nExercise 5'\n",
      "\n",
      "\n",
      "#6) Slice and print the 1st and 3nd row\n",
      "print '\\nExercise 6'\n",
      "\n",
      "\n",
      "#7) Slice and print the 2nd and 4rd column\n",
      "print '\\nExercise 7'\n",
      "\n",
      "\n",
      "#8) Slice and print the sub-matrix [[2,3],[7,8]]\n",
      "print '\\nExercise 8'\n",
      "\n",
      "\n",
      "#9) Slice and print the sub-matrix [[6,11],[0,15]]\n",
      "print '\\nExercise 9'"
     ],
     "language": "python",
     "metadata": {},
     "outputs": [
      {
       "output_type": "stream",
       "stream": "stdout",
       "text": [
        "[[ 1  2  3  4  5]\n",
        " [ 6  7  8  9  0]\n",
        " [11 12 13 14 15]]\n",
        "\n",
        "Exercise 1\n",
        "\n",
        "Exercise 2\n",
        "\n",
        "Exercise 3\n",
        "\n",
        "Exercise 4\n",
        "\n",
        "Exercise 5\n",
        "\n",
        "Exercise 6\n",
        "\n",
        "Exercise 7\n",
        "\n",
        "Exercise 8\n",
        "\n",
        "Exercise 9\n"
       ]
      }
     ],
     "prompt_number": 7
    },
    {
     "cell_type": "heading",
     "level": 1,
     "metadata": {},
     "source": [
      "3. Applying algebraic operations on subsets of data"
     ]
    },
    {
     "cell_type": "markdown",
     "metadata": {},
     "source": [
      "You may wonder why would we be interested in slicing the data? Well, slicing the data gives us the opportunity to apply algebraic operations (like  addition, multiplication, or averaging, etc.) in an efficient way (i.g., vectorised format) in <b>whatever pieces of data we want</b>, not just whole matrices. Subsequently, we have the liberty of using vectorisation not only to whole matrices but to whatever piece of data want!!\n",
      "\n",
      "For example:\n"
     ]
    },
    {
     "cell_type": "code",
     "collapsed": false,
     "input": [
      "#10) Print the sum of the elements of exercise 6 column-wise\n",
      "print '\\nExercise 10'\n",
      "\n",
      "\n",
      "#11) Print the sum of the elements of exercise 6 row-wise\n",
      "print '\\nExercise 11'\n",
      "\n",
      "\n",
      "#12) Print the average column-wise of elements of exercise 8 \n",
      "print '\\nExercise 12'\n",
      "\n",
      "\n",
      "#12) Print the average row-wise of elements of exercise 8 \n",
      "print '\\nExercise 13'\n"
     ],
     "language": "python",
     "metadata": {},
     "outputs": [
      {
       "output_type": "stream",
       "stream": "stdout",
       "text": [
        "\n",
        "Exercise 10\n",
        "\n",
        "Exercise 11\n",
        "\n",
        "Exercise 12\n",
        "\n",
        "Exercise 13\n"
       ]
      }
     ],
     "prompt_number": 4
    },
    {
     "cell_type": "heading",
     "level": 1,
     "metadata": {},
     "source": [
      "3. Broadcasting"
     ]
    },
    {
     "cell_type": "markdown",
     "metadata": {},
     "source": [
      "We are almost ready to finish up on vectorisation. There is only one more issue to discuss: <b>broadcasting</b>.\n",
      "\n",
      "Remember when we said last week that matrix addition happens only when the matrices are of the same dimension? Well, that's true mathematically, but Python (and other vectorised environments, like Matlab, Octave, etc.) have a special way of dealing with operating on matrices that aren't of equal dimensions! Simply, they <i>broadcast</i> the smaller matrix onto the larger as many times as necessary to cover the whole matrix!! See the examples below:"
     ]
    },
    {
     "cell_type": "code",
     "collapsed": false,
     "input": [
      "ran2d = np.array([random.randint(0,10) for r in xrange(15)]).reshape(3,5)\n",
      "print 'Random matrix'\n",
      "print ran2d\n",
      "\n",
      "random_column = np.array([random.randint(0,10) for r in xrange(3)]).reshape(-1,1)\n",
      "random_row = np.array([random.randint(0,10) for r in xrange(5)])\n",
      "\n",
      "print '\\nRandom 3x1 matrix'\n",
      "print random_column\n",
      "\n",
      "print '\\nRandom 1x5 matrix'\n",
      "print random_row\n",
      "\n",
      "\n",
      "print '\\nAddition of random matrix + 3x1 matrix by broadcasting it to all the columns'\n",
      "result1 = ran2d + random_column\n",
      "print result1\n",
      "\n",
      "print '\\nAddition of random matrix + 1x5 matrix by broadcasting it to all the rows'\n",
      "result2 = ran2d + random_row\n",
      "print result2"
     ],
     "language": "python",
     "metadata": {},
     "outputs": [
      {
       "output_type": "stream",
       "stream": "stdout",
       "text": [
        "Random matrix\n",
        "[[ 7  4  0  2  4]\n",
        " [ 9  5  7 10  4]\n",
        " [ 7  1  8  4  5]]\n",
        "\n",
        "Random 3x1 matrix\n",
        "[[4]\n",
        " [8]\n",
        " [1]]\n",
        "\n",
        "Random 1x5 matrix\n",
        "[0 2 4 7 2]\n",
        "\n",
        "Addition of random matrix + 3x1 matrix by broadcasting it to all the columns\n",
        "[[11  8  4  6  8]\n",
        " [17 13 15 18 12]\n",
        " [ 8  2  9  5  6]]\n",
        "\n",
        "Addition of random matrix + 1x5 matrix by broadcasting it to all the rows\n",
        "[[ 7  6  4  9  6]\n",
        " [ 9  7 11 17  6]\n",
        " [ 7  3 12 11  7]]\n"
       ]
      }
     ],
     "prompt_number": 5
    },
    {
     "cell_type": "markdown",
     "metadata": {},
     "source": [
      "<b>Note:</b> Broadcasting can't always be applied!! For more information about when it can be applied see <a href=\"http://docs.scipy.org/doc/numpy/user/basics.broadcasting.html\">here</a>."
     ]
    },
    {
     "cell_type": "heading",
     "level": 1,
     "metadata": {},
     "source": [
      "4. Putting it all together"
     ]
    },
    {
     "cell_type": "markdown",
     "metadata": {},
     "source": [
      "\n",
      "\n",
      "Given a matrix such as: \n",
      "$ a = \n",
      "\\begin{bmatrix}\n",
      "a_{0,0} & a_{0,1} & ... & a_{0,m}\\\\ \n",
      "a_{1,0} & a_{1,1} & ... & a_{1,m} \\\\\n",
      "... & ... &...          & ... \\\\\n",
      "a_{n,0} & a_{n,1} & ... & a_{n,m}\n",
      "\\end{bmatrix}$\n",
      "we want to <b>normalize</b> all its elements column-wise. To accomplish this we need to follow three steps:\n",
      "<ol>\n",
      "\n",
      "<li> For each column $j$ we want to calculate its <i>average</i>: $average_j = \\frac{1}{n+1} \\sum_{i=0}^{n} a_{i,j}$.\n",
      "\n",
      "<li> We also want to calculate the <i>standard deviation</i> of each column: $sigma_j = \\sqrt{ \\frac{1}{n+1} \\sum_{i=0}^{n} (a_{i,j}-average_j)^2}$\n",
      "\n",
      "<li> Lastly, we want to replace every element of the matrix $a_{i,j}$ with their normalized equivalent: $a_{i,j}:= \\frac {a_{i,j}-average_j}{sigma_j}$\n",
      "</ol>"
     ]
    },
    {
     "cell_type": "code",
     "collapsed": false,
     "input": [
      "# Given the matrix below:\n",
      "ran2d = np.array([random.randint(0,10) for r in xrange(15)]).reshape(3,5)\n",
      "print ran2d\n",
      "\n",
      "#Calculate the average of every column\n",
      "averages = np.average(ran2d,axis=0)\n",
      "print '\\nAverages'\n",
      "print averages\n",
      "\n",
      "#Calculate the standard deviation of each column\n",
      "sigmas = np.std(ran2d,axis=0)\n",
      "print '\\nStandard Deviations'\n",
      "print sigmas\n",
      "\n",
      "#Lastly, apply step 3 to the whole ran2d, using vectorisation and broadcasting\n",
      "ran2d = (ran2d-averages) / sigmas\n",
      "print '\\nNormalized ran2d'\n",
      "print ran2d"
     ],
     "language": "python",
     "metadata": {},
     "outputs": [
      {
       "output_type": "stream",
       "stream": "stdout",
       "text": [
        "[[ 1  7  9 10  9]\n",
        " [ 6  5  1  0 10]\n",
        " [ 4  8  5  0  1]]\n",
        "\n",
        "Averages\n",
        "[ 3.66666667  6.66666667  5.          3.33333333  6.66666667]\n",
        "\n",
        "Standard Deviations\n",
        "[ 2.05480467  1.24721913  3.26598632  4.71404521  4.02768199]\n",
        "\n",
        "Normalized ran2d\n",
        "[[-1.29777137  0.26726124  1.22474487  1.41421356  0.57932412]\n",
        " [ 1.13554995 -1.33630621 -1.22474487 -0.70710678  0.82760589]\n",
        " [ 0.16222142  1.06904497  0.         -0.70710678 -1.40693001]]\n"
       ]
      }
     ],
     "prompt_number": 6
    },
    {
     "cell_type": "markdown",
     "metadata": {},
     "source": [
      "As you can see the actual code is much simpler than the math! Implementing this in standard 'for' loops would have been very tedious, bug-prone and challenging. If you were to implement it and time both implementations you'd also see that the above version runs much faster.... a win-win!\n",
      "\n",
      "<b>Note:</b> In case you haven't figured it out, you will need to do something similar to the above for your assignment 3! Only you'll need to apply to transformation not to a whole matrix, but to a sub-matrix, that is, a slice of the matrix!"
     ]
    },
    {
     "cell_type": "heading",
     "level": 1,
     "metadata": {},
     "source": [
      "Assignment 3"
     ]
    },
    {
     "cell_type": "markdown",
     "metadata": {},
     "source": [
      "A couple of things to point out about your assignment 3:\n",
      "<ul>\n",
      "<li> Deadline for submission is this Sunday, 7th December (WOLF midnight).\n",
      "<li> Make sure you upload the right files! (refer to instructions on assignment brief)\n",
      "<li> Make sure your uploaded solution WORKS! (refer to instructions on assignment brief)\n",
      "<li> NumPy provides two ways of multiplying matrices: '*' and the .dot() function. You'll most likely use the latter.\n",
      "<ul><li> Read the API to decide if that is the case and how you should use it</ul>\n",
      "<li> Surgery this week will be Friday, 11-12 at MI136 (drop-in), ring 8584 on the door phone.\n",
      "</ul>"
     ]
    },
    {
     "cell_type": "code",
     "collapsed": false,
     "input": [],
     "language": "python",
     "metadata": {},
     "outputs": [],
     "prompt_number": 6
    }
   ],
   "metadata": {}
  }
 ]
}