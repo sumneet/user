{
 "metadata": {
  "name": "",
  "signature": "sha256:fe16ff4245b52b9acfa713c0a897b10cdc50160470235738a8c3e72494ccd6e7"
 },
 "nbformat": 3,
 "nbformat_minor": 0,
 "worksheets": [
  {
   "cells": [
    {
     "cell_type": "heading",
     "level": 1,
     "metadata": {},
     "source": [
      "0. Forward"
     ]
    },
    {
     "cell_type": "markdown",
     "metadata": {},
     "source": [
      "This assignment will count for $25\\%$ of your final <b>module</b> mark.\n",
      "\n",
      "It is made of multiple individual exercises that build up to solving a single problem. Most of them have different weights: some count for $20\\%$ of the assignment mark, some only for $5\\%$; they all add up to $100\\%$. You don't need to do all of them to pass the assignment. You are already given <i>functional</i> code and your task in most cases is to refactor it to make it run faster. Pace yourself through the assignment slowly. Some tasks are quite easy (the ones that account for $5\\%$), but some require extensive thinking and analysis.\n",
      "\n",
      "Note that it is vital that the code that you submit <b>runs</b>! As mentioned, the code you are given is already functional, therefore if some of your changes don't work, use the previous version. Assignments that have <b>any</b> non-functional code will receive a mark of $1\\%$, even if  some parts work!\n",
      "\n",
      "You'll need to submit two things at WOLF: your modified \"Assignment 2.ipynb\" file (this file right here) and your modified \"assignment.py\" that contains the bulk of the code you'll be working on. Compress both files and submit them to WOLF in a single file. If something is not clear, ask your tutors for advice. The deadline for submission is midnight <b>7th December 2014</b>.\n",
      "\n",
      "Important: This is an <b>individual assignment</b>. To avoid collusion, <b>every</b> student that submits work will undergo a face-to-face meeting with one of the tutors after the submission deadline.  During this meeting, he/she will be asked to discuss in detail the submitted solution. Failure to have this meeting or appropriately address questions posed  by the tutor will result in a mark of $1\\%$ and in the latter case will commence formal procedures for collusion. "
     ]
    },
    {
     "cell_type": "heading",
     "level": 1,
     "metadata": {},
     "source": [
      "1. Introduction"
     ]
    },
    {
     "cell_type": "markdown",
     "metadata": {},
     "source": [
      "In this assignment, you'll be given a functional, but inefficient (i.e., slow), implementation of an algorithm called <i>Gradient Descent</i> and be asked to refactor it in order to improve its efficiency. Gradient Descent is an often-used algorithm in Computer Science when we want to find the minimum of a function <i>f(x)</i>, that is, the value of <i>x</i> that gives the lowest value of f(x). For example, consider the function $f(x)=(x+1)^2+5$:"
     ]
    },
    {
     "cell_type": "code",
     "collapsed": false,
     "input": [
      "def f(x):\n",
      "    return (x+1)**2+5"
     ],
     "language": "python",
     "metadata": {},
     "outputs": [],
     "prompt_number": 1
    },
    {
     "cell_type": "markdown",
     "metadata": {},
     "source": [
      "Below, we plot its values:"
     ]
    },
    {
     "cell_type": "code",
     "collapsed": false,
     "input": [
      "%matplotlib inline               \n",
      "import matplotlib.pyplot as plt\n",
      "import numpy as np\n",
      "x = np.arange(-3,1,0.01)        # setting the values of 'x' that we want to use in the plot\n",
      "plt.plot(x,f(x))                \n",
      "plt.ylabel('f(x)')              # adding visual elements\n",
      "plt.xlabel('x')\n",
      "plt.title('$f(x)=(x+1)^2+5$')\n",
      "plt.ylim(0,10)\n",
      "plt.show"
     ],
     "language": "python",
     "metadata": {},
     "outputs": [
      {
       "metadata": {},
       "output_type": "pyout",
       "prompt_number": 2,
       "text": [
        "<function matplotlib.pyplot.show>"
       ]
      },
      {
       "metadata": {},
       "output_type": "display_data",
       "png": "[encoded data removed]",
       "text": [
        "<matplotlib.figure.Figure at 0x397a400>"
       ]
      }
     ],
     "prompt_number": 2
    },
    {
     "cell_type": "markdown",
     "metadata": {},
     "source": [
      "As you can see the function takes its lowest value for $x=-1$. Subsequently, the <i>minimum</i> of function $f(x)$ is $f(-1)=5$.\n",
      "\n",
      "The above is a trivial example, as the function that we wanted to minimize is very simple and easy to visualize. In most interesting cases, the functions we want to minimize are more complicated and finding the minimum through a plot isn't possible. In such cases, we use algorithms like Gradient Descent to find the minimum. In the specific assignment, we will use it to train a <i> Linear Regression </i> model for a very practical example."
     ]
    },
    {
     "cell_type": "heading",
     "level": 2,
     "metadata": {},
     "source": [
      "1.2 Problem statement"
     ]
    },
    {
     "cell_type": "markdown",
     "metadata": {},
     "source": [
      "Suppose you are an estate agent. You have just been given a new contract to sell a house in the Wolverhampton area that has 3 bedrooms and 1650 square feet of living area and need to decide how much to put it on the market for. \n",
      "\n",
      "Your company already has extensive experience in selling houses in the area and you have access to this dataset. Below we present a subset of it:"
     ]
    },
    {
     "cell_type": "markdown",
     "metadata": {},
     "source": [
      "<table>\n",
      "<tr>\n",
      "<th> Living area (in feet<sup>2</sup>)</th> <th> Number of bedrooms </th> <th> Price (&#163;1,000's)</th>\n",
      "<tr><td>2104</td><td>3</td><td>400</td></tr>\n",
      "<tr><td>1600</td><td>3</td><td>330</td></tr>\n",
      "<tr><td>2400</td><td>3</td><td>369</td></tr>\n",
      "<tr><td>&#8286;</td><td>&#8286;</td><td>&#8286;</td></tr>\n",
      "</table>"
     ]
    },
    {
     "cell_type": "markdown",
     "metadata": {},
     "source": [
      "The data can be found in file 'ex1data2.txt', which is a comma-seperated values (csv) file. Let's read it and visualise the data, ignoring the number of rooms for the time being."
     ]
    },
    {
     "cell_type": "code",
     "collapsed": false,
     "input": [
      "# these two first lines of code simply enforce the reloading\n",
      "# of modules every time we run code, so that changes are applied\n",
      "%reload_ext autoreload                                  \n",
      "%autoreload 2                                       \n",
      "\n",
      "import numpy as np\n",
      "data = np.genfromtxt('ex1data2.txt', delimiter=',')   # the 'ex1data2.txt' file has three columns for:\n",
      "plt.plot(data[:,0],data[:,2], 'ro')                   # area, rooms, value. Each row is a single house\n",
      "plt.ylabel('House Price')                              # adding visual elements\n",
      "plt.xlabel('House Area')\n",
      "plt.title('House prices and their area')\n",
      "plt.show"
     ],
     "language": "python",
     "metadata": {},
     "outputs": [
      {
       "metadata": {},
       "output_type": "pyout",
       "prompt_number": 3,
       "text": [
        "<function matplotlib.pyplot.show>"
       ]
      },
      {
       "metadata": {},
       "output_type": "display_data",
       "png": "[encoded data removed]",
       "text": [
        "<matplotlib.figure.Figure at 0x9f2d390>"
       ]
      }
     ],
     "prompt_number": 3
    },
    {
     "cell_type": "markdown",
     "metadata": {},
     "source": [
      "Given this data, the main question we want to answer is: how can we predict house prices in Wolverhampton as a function of the size of their living areas and the number of rooms that they have? More specifically we want to calculate the right price for the 3-bedroom house that has an area of 1650 square feet!"
     ]
    },
    {
     "cell_type": "heading",
     "level": 3,
     "metadata": {},
     "source": [
      "1.2.1 A bit on notation"
     ]
    },
    {
     "cell_type": "markdown",
     "metadata": {},
     "source": [
      "To avoid confusion we will establish a standard notation for the assignment. We will use $x^{(i)}$ to denote (i.e., represent) the 'input variables' (the living area and number of rooms in this assignment) of the $i^{th}$ example. For example, $x^{(1)}=[2104,3]$ - see the table above. Notice that $x^{(i)}$ is this case isn't a single number but a vector. Specifically, $x^{(1)}_{1}=2104$ and $x^{(1)}_{2}=3$.\n",
      "\n",
      "We will also use $y^{(i)}$ to denote the 'output' variable, that is, the thing we want to calculate (the house price). For example $y^{(1)}=400$.\n",
      "\n",
      "A pair $(x^{(i)}, y^{(i)})$ is called a <b> training example</b>, and the dataset we'll be using to learn house price values - a list of $m$ training examples, is called a <b> training dataset</b>. Formally, this is defined as $\\{(x^{(i)}, y^{(i)}); i=1,2, \\dots, m\\}$. Notice that the superscript $i$ is only meant to denote the index in the dataset and has nothing to do with exponentiation."
     ]
    },
    {
     "cell_type": "heading",
     "level": 4,
     "metadata": {},
     "source": [
      "<font color='red'>Question 1 (5%):</font>"
     ]
    },
    {
     "cell_type": "markdown",
     "metadata": {},
     "source": [
      "What is the value of $m$ in the dataset that we've plotted above? <i>Hint:</i> You may want to look in the 'ex1data2.txt' or query the $data$ variable. Put your answer here:"
     ]
    },
    {
     "cell_type": "code",
     "collapsed": false,
     "input": [
      "m = 0"
     ],
     "language": "python",
     "metadata": {},
     "outputs": [],
     "prompt_number": 4
    },
    {
     "cell_type": "heading",
     "level": 1,
     "metadata": {},
     "source": [
      "2. Linear Regression"
     ]
    },
    {
     "cell_type": "markdown",
     "metadata": {},
     "source": [
      "Linear regression is an example of <i> supervised learning</i>, that is, we are trying to learn something given some examples. In the particular case, we want to learn to estimate house price values given the examples contained in the 'ex1data2.txt' file."
     ]
    },
    {
     "cell_type": "markdown",
     "metadata": {},
     "source": [
      "To simplify things, we assume that house price values (variable $y$) is a linear function (also known as linear combination) of $x$:\n",
      "$y = h_{\\theta}(x) = \\theta_0 + \\theta_1 * x_1 + \\theta_2 * x_2 $"
     ]
    },
    {
     "cell_type": "code",
     "collapsed": false,
     "input": [
      "def h(theta_zero,theta_one,theta_two,x_one,x_two):\n",
      "    return theta_zero + theta_one * x_one + theta_two * x_two"
     ],
     "language": "python",
     "metadata": {},
     "outputs": [],
     "prompt_number": 5
    },
    {
     "cell_type": "markdown",
     "metadata": {},
     "source": [
      "Function $h_{\\theta}(x)$ is called a <i>hypothesis</i>, because we hypothesize (i.e., assume) that the relation between house prices and house area and number of bedrooms is linear. As mentioned above, to keep things simple, let's assume that this is a correct assumption. To simplify our notation, we'll also use $h(x)$ instead of $h_{\\theta}(x)$ when there is no risk of confusion.\n",
      "\n",
      "Here, the values of $\\theta_i$ (i.e., $\\theta_0, \\theta_1, \\theta_2$) are the <b>parameters</b> that we want to learn! For example suppose that we've calculated these values as $\\theta_0=1, \\theta_1=5, \\theta_2=4$. Then for a house that we mentioned above with 1650 square feet and 3 rooms ($x_1=1650, x_2=3$) we have:"
     ]
    },
    {
     "cell_type": "code",
     "collapsed": false,
     "input": [
      "print h(1,5,4,1650,3)"
     ],
     "language": "python",
     "metadata": {},
     "outputs": [
      {
       "output_type": "stream",
       "stream": "stdout",
       "text": [
        "8263\n"
       ]
      }
     ],
     "prompt_number": 6
    },
    {
     "cell_type": "markdown",
     "metadata": {},
     "source": [
      "Feel free to experiment with different values of $\\theta_i$ and see what the results are. Can you guess good values to replicate the first training example $(x^{(1)},y^{(1)})=([2104,3],400)$ in the dataset? That is, output a value of 400 for a house of 2104 sq. feet and three rooms (note the order of the arguments in function h above).\n",
      "\n",
      "Obviously, the above price is unrealistic as the values of $\\theta_i$'s we provided were fictional. The aim of <i>Linear Regression</i> is to learn <b>good values</b> of parameters $\\theta_i$ so that they give accurate results.\n",
      "\n",
      "To make the point of what 'good values' of $\\theta$ mean, let's take a look at the initial plot of our dataset and add the line representing the $h_\\theta(x)$ for the above values of $\\theta$."
     ]
    },
    {
     "cell_type": "code",
     "collapsed": false,
     "input": [
      "import matplotlib.pyplot as plt\n",
      "plt.plot(data[:,0],data[:,2], 'ro')                                  \n",
      "plt.ylabel('House area')                                           \n",
      "plt.xlabel('House Price ')\n",
      "plt.title('House prices and their area')\n",
      "x = np.arange(500,4500,1)\n",
      "plt.plot(x,h(1,5,4,x,3))\n",
      "plt.show"
     ],
     "language": "python",
     "metadata": {},
     "outputs": [
      {
       "metadata": {},
       "output_type": "pyout",
       "prompt_number": 7,
       "text": [
        "<function matplotlib.pyplot.show>"
       ]
      },
      {
       "metadata": {},
       "output_type": "display_data",
       "png": "[encoded data removed]",
       "text": [
        "<matplotlib.figure.Figure at 0x9e907f0>"
       ]
      }
     ],
     "prompt_number": 7
    },
    {
     "cell_type": "markdown",
     "metadata": {},
     "source": [
      "As you can see, the blue line, representing $h(x)$ is very distant from the actual points, representing the actual houses. For example, if you experiment with different $\\theta$ values, you may come across a line that seems to fit the data better. "
     ]
    },
    {
     "cell_type": "code",
     "collapsed": false,
     "input": [
      "plt.plot(data[:,0],data[:,2], 'ro')                                  \n",
      "plt.ylabel('House area')                                           \n",
      "plt.xlabel('House Price ')\n",
      "plt.title('House prices and their area')\n",
      "x = np.arange(500,4500,1)\n",
      "plt.plot(x,h(100000,100,40,x,3))\n",
      "plt.show"
     ],
     "language": "python",
     "metadata": {},
     "outputs": [
      {
       "metadata": {},
       "output_type": "pyout",
       "prompt_number": 8,
       "text": [
        "<function matplotlib.pyplot.show>"
       ]
      },
      {
       "metadata": {},
       "output_type": "display_data",
       "png": "[encoded data removed]",
       "text": [
        "<matplotlib.figure.Figure at 0x9d9a748>"
       ]
      }
     ],
     "prompt_number": 8
    },
    {
     "cell_type": "markdown",
     "metadata": {},
     "source": [
      "Finding 'good values' of $\\theta$ means bringing that line as close as possible to the points, ideally based on some <i>formal</i> criterion. We'll come back to this issue shortly."
     ]
    },
    {
     "cell_type": "heading",
     "level": 2,
     "metadata": {},
     "source": [
      "2.1 A first example of vectorization"
     ]
    },
    {
     "cell_type": "markdown",
     "metadata": {},
     "source": [
      "Although the function $h$ as defined above in python works fine, it is rather ugly. Let's try to <i>vectorize</i> it. You'll be asked to vectorize other functions in this assignment, so this can be seen as a first example.\n",
      "First of all, we can observe that we can write $h_{\\theta}(x)$ in a more concise form using <i>sums</i> such as:\n",
      "$h_{\\theta}(x) = \\theta_0 + \\theta_1 * x_1 + \\theta_2 * x_2 = \\sum_{i=0}^2 \\theta_i * x_i$, where we set $x_0 = 1$. The $\\theta_0$ value is called the <b>intercept term</b>, because it defines the point our function <i>intercepts</i> the y axis. Make sure this notation makes sense to you, as it is a basic step in understanding the rest of the assignment.\n",
      "\n",
      "First of all, remember the <i> dot product</i> operation between two vectors $A$ and $B$:\n",
      "\n",
      "$ A = \n",
      "\\begin{bmatrix}\n",
      "a_1 & a_2 & a_3 \\\\\n",
      "\\end{bmatrix}$,\n",
      "$ B = \n",
      "\\begin{bmatrix}\n",
      "b_1 \\\\ b_2 \\\\ b_3 \\\\\n",
      "\\end{bmatrix}$\n",
      "\n",
      "is equal to: \n",
      "\n",
      "$ A * B = \n",
      "\\begin{bmatrix}\n",
      "a_1 & a_2 & a_3 \\\\\n",
      "\\end{bmatrix}\n",
      "*\n",
      "\\begin{bmatrix}\n",
      "b_1 \\\\ b_2 \\\\ b_3 \\\\\n",
      "\\end{bmatrix}\n",
      "=\n",
      "a_1 * b_1 + a_2 * b_2 + a_3 * b_3\n",
      "=\n",
      "\\sum_{i=1}^{3}a_i*b_i\n",
      "$\n",
      "\n",
      "So, let's try to apply this in our case. Let's place the $x_i$'s and the $\\theta_i$ variables in vectors by defining:\n",
      "$ x = \n",
      "\\begin{bmatrix}\n",
      " 1 &\n",
      "x_1 &\n",
      "x_2\n",
      "\\end{bmatrix}$\n",
      "and\n",
      "$\\theta = \n",
      "\\begin{bmatrix}\n",
      "\\theta_0 &\n",
      "\\theta_1 &\n",
      "\\theta_2\n",
      "\\end{bmatrix}$.\n",
      "\n",
      "If you compare the definitions of $x$, $\\theta$ and $A, B$ you'll notice that we can apply to dot product by <i>transposing</i> the $\\theta$ vector: $\\theta^T = \n",
      "\\begin{bmatrix}\n",
      "\\theta_0 \\\\\n",
      "\\theta_1 \\\\\n",
      "\\theta_2 \\\\\n",
      "\\end{bmatrix}$\n",
      "\n",
      "so we can have: $x * \\theta^T = \\sum_{i=0}^2  x_i * \\theta_i = h_{\\theta}(x)$.\n",
      "\n",
      "So, we just showed that $h_{\\theta}(x) = x * \\theta^T$, that is, we have redefined $h_{\\theta}(x)$ using vectors. So, now let's refactor the function in Python to make use of this result:"
     ]
    },
    {
     "cell_type": "code",
     "collapsed": false,
     "input": [
      "def h_vectorized(theta,x):                         # both arguments theta and x are vectors of equal size\n",
      "    return x.dot(theta.transpose())                # equal to x * theta_transpose. "
     ],
     "language": "python",
     "metadata": {},
     "outputs": [],
     "prompt_number": 9
    },
    {
     "cell_type": "markdown",
     "metadata": {},
     "source": [
      "As you can see the new <i> vectorised</i> version of function $h$ is much nicer; more concise and more obvious about what we are calculating. Make sure you understand it. Also, it is much less susceptible to bugs, such as mistyping '*' instead of '+' in the original version. \n",
      "\n",
      "So, let's try to rerun the above example of function $h$ using this new, <i>vectorized</i> version. First let's define vectors $\\theta,x$:"
     ]
    },
    {
     "cell_type": "code",
     "collapsed": false,
     "input": [
      "theta = np.array([[1,5,4]])\n",
      "x = np.array([[1,1650,3]])          # don't forget that we need to define x0 = 1\n",
      "print h_vectorized(theta,x)"
     ],
     "language": "python",
     "metadata": {},
     "outputs": [
      {
       "output_type": "stream",
       "stream": "stdout",
       "text": [
        "[[8263]]\n"
       ]
      }
     ],
     "prompt_number": 10
    },
    {
     "cell_type": "markdown",
     "metadata": {},
     "source": [
      "As you can see, the result is the same as above. Detail: actually, our vectorised form returns an array with a single element (that's why you see the '[[]]', instead of a single number. You can get the number, if you really need it, as:"
     ]
    },
    {
     "cell_type": "code",
     "collapsed": false,
     "input": [
      "print h_vectorized(theta,x)[0,0]   # getting the element at position [0,0] of the array produced by h_vectorized."
     ],
     "language": "python",
     "metadata": {},
     "outputs": [
      {
       "output_type": "stream",
       "stream": "stdout",
       "text": [
        "8263\n"
       ]
      }
     ],
     "prompt_number": 11
    },
    {
     "cell_type": "heading",
     "level": 4,
     "metadata": {},
     "source": [
      "<font color='red'>Question 2 (5%):</font>"
     ]
    },
    {
     "cell_type": "markdown",
     "metadata": {},
     "source": [
      "In the above example, when we create vector $x$ to pass it in the above vectorised function $h\\_vectorized(theta,x)$, we have to manually add the $x_0=1$, as: \n",
      "\n",
      "x = np.array([[--><b>1</b><--,1650,3]]). \n",
      "\n",
      "Rewrite $h\\_vectorised(theta,x)$ in a way that it will work correctly if we pass x = np.array([[1650,3]]) without changing the 'return' statement. That is, you must add the $x_0=1$ element in the body of the function. <i> Hint:</i> You may want to take a look at the $np.insert(...)$ function.\n",
      "\n",
      "Provide your answer here:"
     ]
    },
    {
     "cell_type": "code",
     "collapsed": false,
     "input": [
      "def h_vectorized_version_2(theta,x):                         \n",
      "    # add x0=1 element here\n",
      "    \n",
      "    if theta.shape == x.shape:\n",
      "        return theta.dot(x.transpose())\n",
      "    else:\n",
      "        return 0"
     ],
     "language": "python",
     "metadata": {},
     "outputs": [],
     "prompt_number": 12
    },
    {
     "cell_type": "markdown",
     "metadata": {},
     "source": [
      "If you do this correctly, then the code below should work:"
     ]
    },
    {
     "cell_type": "code",
     "collapsed": false,
     "input": [
      "theta = np.array([1,5,4])\n",
      "x = np.array([[1650,3]])          \n",
      "print h_vectorized_version_2(theta,x)"
     ],
     "language": "python",
     "metadata": {},
     "outputs": [
      {
       "output_type": "stream",
       "stream": "stdout",
       "text": [
        "0\n"
       ]
      }
     ],
     "prompt_number": 13
    },
    {
     "cell_type": "heading",
     "level": 2,
     "metadata": {},
     "source": [
      "2.2 Estimating good values for $\\theta$"
     ]
    },
    {
     "cell_type": "markdown",
     "metadata": {},
     "source": [
      "Now, given the dataset that we have, how do we pick, or learn, good values for parameters $\\theta$? One reasonable method seems to be to have such value of $\\theta$'s so that the function $h_{\\theta}(x^{(i)})$ is as close as possible to $y^{(i)}$, for all $i=1,2,... m$.\n",
      "\n",
      "To formalize this, we will define a function that measures for a given value of $\\theta$'s, how close $h_{\\theta}(x^{(i)})$ is to the respective $y^{(i)}$, for all $i$'s. This is called the <b>Cost Function</b>:\n",
      "\n",
      "$J(\\theta) = \\frac{1}{2m} * \\sum_{i=1}^{m}(h_{\\theta}(x^{(i)}) - y^{(i)})^2$"
     ]
    },
    {
     "cell_type": "markdown",
     "metadata": {},
     "source": [
      "While understanding the mathematics behind this isn't necessary for the assignment, it is nonetheless recommended. Let's briefly understand what the cost function does:\n",
      "\n",
      "This paranthesis: $(h_{\\theta}(x^{(i)}) - y^{(i)})$ simply calculates the difference between the output of our $h(x)$ function for example $x^{(i)}$ and the real output we want to approximate: $y^{(i)}$. For example, using the 'wrong' parameters of $\\theta$ we've been experimenting so far ($\\theta_0=1, \\theta_1=5, \\theta_2=4$), for the $1^{st}$ example in our dataset - refer to the table -  $x^{(1)}$ ($x_1^{(1)}=2140, x_2^{(1)}=3$), this would be equal to:"
     ]
    },
    {
     "cell_type": "code",
     "collapsed": false,
     "input": [
      "theta = np.array([[1,5,4]])\n",
      "x1 = np.array([[1,2140,3]])          # don't forget that we need to define x0 = 1\n",
      "y1 = 400\n",
      "h1 = h_vectorized(theta,x1)\n",
      "error = h1 - y1\n",
      "print 'Error for the 1st example is: %.3f' % error"
     ],
     "language": "python",
     "metadata": {},
     "outputs": [
      {
       "output_type": "stream",
       "stream": "stdout",
       "text": [
        "Error for the 1st example is: 10313.000\n"
       ]
      }
     ],
     "prompt_number": 14
    },
    {
     "cell_type": "markdown",
     "metadata": {},
     "source": [
      "Which is a pretty big error! In the Cost Function, we also raise the error to the second power: $(h_{\\theta}(x^{(i)}) - y^{(i)})^2$, so that negative errors don't negate positive errors. There are other reasons why we do this, but they go beyond the scope of this assignment."
     ]
    },
    {
     "cell_type": "code",
     "collapsed": false,
     "input": [
      "error_squared = error**2\n",
      "print 'Error for the 1st example squared is: %0.3f' % error_squared"
     ],
     "language": "python",
     "metadata": {},
     "outputs": [
      {
       "output_type": "stream",
       "stream": "stdout",
       "text": [
        "Error for the 1st example squared is: 106357969.000\n"
       ]
      }
     ],
     "prompt_number": 15
    },
    {
     "cell_type": "markdown",
     "metadata": {},
     "source": [
      "What the $\\sum_{i=1}^{m} ...$ part in the Cost function does, is simply adding the squared errors from all the training examples (that's why it goes from $i=1$ to $m$), to calculate the total squared error for the whole dataset. Lastly, we also multiple the total error by $\\frac{1}{2m}$ for an operational reason that is beyond the scope of this assignment (i.e., it helps with calculating the cost function's partial derivatives easier)."
     ]
    },
    {
     "cell_type": "heading",
     "level": 2,
     "metadata": {},
     "source": [
      "2.3 Computing the cost $J(\\theta)$"
     ]
    },
    {
     "cell_type": "markdown",
     "metadata": {},
     "source": [
      "Let's start the practical parts of the assignment, by first loading the data into separate matrices, for ease of reference:"
     ]
    },
    {
     "cell_type": "code",
     "collapsed": false,
     "input": [
      "X = data[:,:2]   # The input variables are the first two columns of the data matrix\n",
      "y = data[:,2]    # The y variables are the last column\n",
      "print 'The first 3 rows of X\\n'\n",
      "print  X[:3,:]"
     ],
     "language": "python",
     "metadata": {},
     "outputs": [
      {
       "output_type": "stream",
       "stream": "stdout",
       "text": [
        "The first 3 rows of X\n",
        "\n",
        "[[ 2104.     3.]\n",
        " [ 1600.     3.]\n",
        " [ 2400.     3.]]\n"
       ]
      }
     ],
     "prompt_number": 16
    },
    {
     "cell_type": "markdown",
     "metadata": {},
     "source": [
      "To make our calculations and vectorization easier, let's add a column of 1's to X. This is done to accomondate for the intercept term $\\theta_0$ since $\\theta_0 * 1 = \\theta_0$."
     ]
    },
    {
     "cell_type": "code",
     "collapsed": false,
     "input": [
      "column_ones = np.ones((X.shape[0],1))\n",
      "X = np.concatenate((column_ones,X),axis=1)\n",
      "print 'The first 3 rows of X after the addition of the column of 1s\\n'\n",
      "print  X[:3,:]"
     ],
     "language": "python",
     "metadata": {},
     "outputs": [
      {
       "output_type": "stream",
       "stream": "stdout",
       "text": [
        "The first 3 rows of X after the addition of the column of 1s\n",
        "\n",
        "[[  1.00000000e+00   2.10400000e+03   3.00000000e+00]\n",
        " [  1.00000000e+00   1.60000000e+03   3.00000000e+00]\n",
        " [  1.00000000e+00   2.40000000e+03   3.00000000e+00]]\n"
       ]
      }
     ],
     "prompt_number": 17
    },
    {
     "cell_type": "markdown",
     "metadata": {},
     "source": [
      "Next, let's initialize the values of $\\theta$, that we want to optimize. Let's make them all equal to zero to start:"
     ]
    },
    {
     "cell_type": "code",
     "collapsed": false,
     "input": [
      "theta = np.zeros((1,X.shape[1]))"
     ],
     "language": "python",
     "metadata": {},
     "outputs": [],
     "prompt_number": 18
    },
    {
     "cell_type": "markdown",
     "metadata": {},
     "source": [
      "Now, let's estimate the value of the Cost Function $J(\\theta)$ with those initial values of $\\theta$. All the functions that you'll be required to refactor are in the 'assignment.py' file. We'll import all the functions from it and call function 'computeCost':"
     ]
    },
    {
     "cell_type": "code",
     "collapsed": false,
     "input": [
      "from assignment import *\n",
      "initial_cost = computeCost(X,y,theta)\n",
      "print 'Initial cost value is: %.2f' % initial_cost"
     ],
     "language": "python",
     "metadata": {},
     "outputs": [
      {
       "output_type": "stream",
       "stream": "stdout",
       "text": [
        "Initial cost value is: 65591548106.46\n"
       ]
      }
     ],
     "prompt_number": 19
    },
    {
     "cell_type": "markdown",
     "metadata": {},
     "source": [
      "So, our initial cost function $J(\\theta)$ has a value of $6.5*10^{10}$, which is prety huge! We want to make this small by finding better $\\theta$ values. We'll return to this issue shortly."
     ]
    },
    {
     "cell_type": "heading",
     "level": 4,
     "metadata": {},
     "source": [
      "<font color='red'>Question 3 (20%):</font>"
     ]
    },
    {
     "cell_type": "markdown",
     "metadata": {},
     "source": [
      "You should now open the 'assignment.py' file and locate the 'computeCost' function in it. You need to refactor the given code to vectorize it. There are more instructions as comments in the function body. Once you are done, we'll reload the function and call it again. The result should be the same as above."
     ]
    },
    {
     "cell_type": "code",
     "collapsed": false,
     "input": [
      "from assignment import *\n",
      "vectorized_cost = computeCost(X,y,theta)\n",
      "print 'Initial **vectorised** cost value is: %.2f' % vectorized_cost"
     ],
     "language": "python",
     "metadata": {},
     "outputs": [
      {
       "output_type": "stream",
       "stream": "stdout",
       "text": [
        "Initial **vectorised** cost value is: 65591548106.46\n"
       ]
      }
     ],
     "prompt_number": 20
    },
    {
     "cell_type": "heading",
     "level": 2,
     "metadata": {},
     "source": [
      "2.4 Feature Normalization"
     ]
    },
    {
     "cell_type": "markdown",
     "metadata": {},
     "source": [
      "Before we move to the gist of solving our Linear Regression problem with Gradient Descent, we have one more thing to do and that is <b>Feature Normalization</b>. Remember how each training example $x^{(i)}$ is a vector of two values: the living area of the house and the number of bedrooms (e.g., $x^{(1)}=[2140,3]$)? \n",
      "\n",
      "As you can see, the first element of the vector (the house area) is a number in the thousands, while the second (the number of rooms) is a rather small number. Well, it turns out that such differences can substantially hurt the speed of our prediction. Subsequently, what we need to do is $normalize$ (i.e., $scale$) the features to a common range."
     ]
    },
    {
     "cell_type": "heading",
     "level": 4,
     "metadata": {},
     "source": [
      "<font color='red'>Question 4 (20%):</font>"
     ]
    },
    {
     "cell_type": "markdown",
     "metadata": {},
     "source": [
      "Locate the function 'featureNormalize' in 'assignment.py'. The function normalizes the values of the second and third column of matrix X. Your task is to refactor the function by vectorizing it! The function body contains all the details in comments.\n",
      "\n",
      "Having done so, we'll call the featureNormalize function. We replace the original X matrix with the new one with normalized features and also retrieve the mean and standard deviation values, which we may use later."
     ]
    },
    {
     "cell_type": "code",
     "collapsed": false,
     "input": [
      "X_norm, mu, sigma = featureNormalize(X)\n",
      "normalized_cost = computeCost(X_norm,y,theta)\n",
      "print 'Initial **normalized** cost value is: %.2f' % normalized_cost\n",
      "print 'The first 3 rows of X_norm\\n'\n",
      "print  X_norm[:3,:]"
     ],
     "language": "python",
     "metadata": {},
     "outputs": [
      {
       "output_type": "stream",
       "stream": "stdout",
       "text": [
        "Initial **normalized** cost value is: 65591548106.46\n",
        "The first 3 rows of X_norm\n",
        "\n",
        "[[ 1.          0.13141542 -0.22609337]\n",
        " [ 1.         -0.5096407  -0.22609337]\n",
        " [ 1.          0.5079087  -0.22609337]]\n"
       ]
      }
     ],
     "prompt_number": 21
    },
    {
     "cell_type": "markdown",
     "metadata": {},
     "source": [
      "As you can see, the value of the cost function hasn't changed. "
     ]
    },
    {
     "cell_type": "heading",
     "level": 1,
     "metadata": {},
     "source": [
      "3. Gradient Descent"
     ]
    },
    {
     "cell_type": "markdown",
     "metadata": {},
     "source": [
      "We are now ready to implement <i>Gradient Descent</i> to find the optimal values of $\\theta$. \n",
      "\n",
      "To recap, we have hypothesized that the price of a house $y$ is a linear function $y=h_\\theta(x)=\\sum_{i=0}^2 \\theta_i * x_i $ of the living area of the house $x_1$ and the number of bedrooms $x_2$ it has. We want to find the optimal values of parameters $\\theta=[\\theta_0,\\theta_1,\\theta_2]$ so that the cost function $J(\\theta)$ is minimal for the training dataset of previsouly sold houses that we have ('ex1data2.txt' file). It now becomes clear that we have a $minimization$ problem in our hands, in which gradient descent is a very appropriate solution. But, how does it work?"
     ]
    },
    {
     "cell_type": "markdown",
     "metadata": {},
     "source": [
      "<i>Gradient descent</i> starts with an initial, usually bad, guess of $\\theta$ (usually, all zero's) and repeatedly $updates$ it in multiple iterations to make $J(\\theta)$ as small as possible. We'll skip the maths behind the algorithm and give you the update rule directly:\n",
      "\n",
      "Repeat until convergence {\n",
      "\n",
      "$\\theta_j := \\theta_j - \n",
      "\\frac{\\alpha}{m} * \\sum_{i=1}^{m} (y^{(i)} - h_\\theta(x^{(i)}))*x_j^{(i)}$ (simultaneously update $\\theta_j$ for every j)\n",
      "\n",
      "}"
     ]
    },
    {
     "cell_type": "markdown",
     "metadata": {},
     "source": [
      "What this means is that in every iteration, the $\\theta$ values (i.e., $\\theta_0,\\theta_1,\\theta_2$) change according to the above formula. Note that the $:=$ symbol means that programmatically, we replace the previous value of $\\theta_j$ on the left side of the symbol with a new value, calculated on the right side of the symbol. That is, this is equal to '=' when you program (e.g., $\\theta = \\theta + 3$). We use this symbol to differentiate from the mathematical equality (e.g., $x=5, y=5 => x=y$).\n",
      "\n",
      "One should also note the following: it is vital that the updates to $\\theta_j$ happen simultaneously. What this means is that when implementing the algorithm, one should NOT update $\\theta_0$ first and the use this value to update $\\theta_1$ and so forth. Instead, you should use the $\\theta_j$ values from the previous step.\n",
      "\n",
      "The idea of $convergence$, that is, when to stop iterating and assume that we've reached the optimal $\\theta$ values is a very interesting one. In the initial implementation of gradient descent you'll be given, we have set the number of iterations as a hard-coded number (e.g., 10000). One of the tasks you'll have to do in the assignment is figure out better ways to decide if the values have converged! <i>Hint:</i> You can stop calculating when the cost function changes only minimally from one to the next iteration!\n",
      "\n",
      "Another point of interest is the $\\alpha$ value you see in the formula. This one defines the 'step' that the calculation of $\\theta$'s takes. For example, a small value $\\alpha=0.000000001=10^{-9}$ means that with each iteration, the $\\theta$ values will only change slightly (e.g., from $\\theta_0=0.12$ to $\\theta_0=0.120001$). A large value $\\alpha=1000=10^{3}$ means that the values of $\\theta$ with each iteration will change very dramatically (e.g., from $\\theta_0=0.12$ to $\\theta_0=121$). \n",
      "\n",
      "Setting this value in a good range is of vital importance. If it's too small, then you will, almost certainly, find the best values of $\\theta$, but the calculation will take too long. If, on the contrary, the value is too high, your calculations will be faster, but you may 'overshoot' the optimal $\\theta$ values and never actually find the true optimal ones. In the implementation of gradient descent you'll be given, we've assigned $\\alpha$ a very low value. It will be up to you to experiment with different ranges and find one that both works fast and gives good values for $\\theta$."
     ]
    },
    {
     "cell_type": "heading",
     "level": 2,
     "metadata": {},
     "source": [
      "3.1 Running gradient descent"
     ]
    },
    {
     "cell_type": "markdown",
     "metadata": {},
     "source": [
      "The 'assignment.py' file contains the initial, unoptimized version of gradient descent (function 'gradientDescent'). Let's run it and see the optimal values of $theta$ that we get:"
     ]
    },
    {
     "cell_type": "code",
     "collapsed": false,
     "input": [
      "from assignment import *\n",
      "alpha = 0.0001\n",
      "num_iterations = 20000\n",
      "%time optimal_theta,J_history = gradientDescent(X_norm,y,alpha,num_iterations)\n",
      "print '\\nOptimal values of theta discovered:'\n",
      "print optimal_theta\n",
      "print '\\nFinal Cost Function value:'\n",
      "print J_history[-1]"
     ],
     "language": "python",
     "metadata": {},
     "outputs": [
      {
       "output_type": "stream",
       "stream": "stdout",
       "text": [
        "Wall time: 35.5 s\n",
        "\n",
        "Optimal values of theta discovered:\n",
        "[[ 294347.42293478   83116.20031608   15211.62553803]]\n",
        "\n",
        "Final Cost Function value:\n",
        "3367071601.91\n"
       ]
      }
     ],
     "prompt_number": 22
    },
    {
     "cell_type": "markdown",
     "metadata": {},
     "source": [
      "We can also print the value of the cost function for each iteration to see how it is reduced in every iteration:"
     ]
    },
    {
     "cell_type": "code",
     "collapsed": false,
     "input": [
      "iteration = np.arange(0,num_iterations,1)\n",
      "plt.plot(iteration,J_history)\n",
      "plt.ylabel('Cost function value')              # adding visual elements\n",
      "plt.xlabel('Iteration')\n",
      "plt.title('Cost function value in reference to iteration')\n",
      "plt.show"
     ],
     "language": "python",
     "metadata": {},
     "outputs": [
      {
       "metadata": {},
       "output_type": "pyout",
       "prompt_number": 23,
       "text": [
        "<function matplotlib.pyplot.show>"
       ]
      },
      {
       "metadata": {},
       "output_type": "display_data",
       "png": "[encoded data removed]",
       "text": [
        "<matplotlib.figure.Figure at 0x9de8438>"
       ]
      }
     ],
     "prompt_number": 23
    },
    {
     "cell_type": "heading",
     "level": 4,
     "metadata": {},
     "source": [
      "<font color='red'>Question 5 (10%):</font>"
     ]
    },
    {
     "cell_type": "markdown",
     "metadata": {},
     "source": [
      "Can you <i>empirically</i> find a good number of iterations and value of $\\alpha$ that produce similar or better values of $\\theta$? Replace the original numbers above (change the value of $num\\_iterations$ and $\\alpha$) and re-run the experiment until you find them. Ideally, you'll want to have a similar or lower final cost value with the new number of iterations and $\\alpha$. <i>Hint:</i> A good combination of those values should give you a final cost function value of approx. $2*10^9$, instead of the current and should be much faster!"
     ]
    },
    {
     "cell_type": "heading",
     "level": 4,
     "metadata": {},
     "source": [
      "<font color='red'>Question 6 (20%):</font>"
     ]
    },
    {
     "cell_type": "markdown",
     "metadata": {},
     "source": [
      "Locate the function 'gradientDescent' in the 'assignment.py' file. It contains the initial implementation of gradient descent that you'll need to optimize. First of all, you need to vectorize the calculation inside the \"<i>for k in range(0,num_iterations):</i>\" loop. Note: do not alter the for loop line, but the code inside it. A good vectorized version should be 1 to 2 lines of code."
     ]
    },
    {
     "cell_type": "heading",
     "level": 4,
     "metadata": {},
     "source": [
      "<font color='red'>Question 7 (20%):</font>"
     ]
    },
    {
     "cell_type": "markdown",
     "metadata": {},
     "source": [
      "In this last step, you'll need to replace the hard-coded value of the $num\\_iterations$ parameter with a <i>dynamic</i> estimation of when to stop the calculations. Replace the \"<i>for k in range(0,num_iterations):</i>\" loop with a $while$ loop that examines how much the value of the cost function has changed since the last iteration and stops automatically when the changes from iteration to iteration are too small. You'll need to examine how the cost function value is decreased with every loop and decide yourself on the criterion for stopping. <i>Hint:</i> If the cost function stays the same after two iterations, then you should probably stop!"
     ]
    },
    {
     "cell_type": "heading",
     "level": 1,
     "metadata": {},
     "source": [
      "4. Concluding remarks: How much to sell?"
     ]
    },
    {
     "cell_type": "markdown",
     "metadata": {},
     "source": [
      "Having estimated the optimal $\\theta$ values, we are now ready to calculate the price for the new 3-bedroom, 1650 square feet house and finally answer our original question."
     ]
    },
    {
     "cell_type": "code",
     "collapsed": false,
     "input": [
      "new_house = np.array([[1,1650,3]])                              #create a new array representing the new house\n",
      "new_house_normalized = (new_house - mu) / sigma                 #Important: the optimal values were calculated with a normalized\n",
      "price = new_house_normalized.dot(optimal_theta.transpose())     #training set, so we need to normalize the values of 'new_house'\n",
      "                                                                #Lastly, we calculate h(x)=x*theta_transpose (see above) for the new house\n",
      "print 'A 1650 square feet, 3-bedroom house should be put on the market for: %.1f pounds' % price"
     ],
     "language": "python",
     "metadata": {},
     "outputs": [
      {
       "output_type": "stream",
       "stream": "stdout",
       "text": [
        "A 1650 square feet, 3-bedroom house should be put on the market for: 253834.7 pounds\n"
       ]
      }
     ],
     "prompt_number": 24
    },
    {
     "cell_type": "markdown",
     "metadata": {},
     "source": [
      "Good luck (with selling the house and the assignment)!"
     ]
    },
    {
     "cell_type": "markdown",
     "metadata": {},
     "source": [
      "Disclaimer: Parts of the assignment were taken from the online course taught by Prof. Andrew Ng \"Machine Learning\" found here: <a href=\"https://www.coursera.org/course/ml\">https://www.coursera.org/course/ml</a>\n",
      "\n",
      "Disclaimer: If you found this type of problem interesting come see me for your final year project (George, g.paltoglou@wlv.ac.uk). This is only a small taste of Machine Learning; there are many much more exciting questions to investigate than house prices."
     ]
    },
    {
     "cell_type": "code",
     "collapsed": false,
     "input": [],
     "language": "python",
     "metadata": {},
     "outputs": [],
     "prompt_number": 24
    }
   ],
   "metadata": {}
  }
 ]
}